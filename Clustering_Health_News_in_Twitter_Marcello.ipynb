{
  "nbformat": 4,
  "nbformat_minor": 0,
  "metadata": {
    "colab": {
      "name": "Clustering Health News in Twitter - Marcello.ipynb",
      "provenance": [],
      "toc_visible": true
    },
    "kernelspec": {
      "name": "python3",
      "display_name": "Python 3"
    },
    "language_info": {
      "name": "python"
    }
  },
  "cells": [
    {
      "cell_type": "markdown",
      "metadata": {
        "id": "Gtnl2OREda_q"
      },
      "source": [
        "# TUGAS CLUSTERING DATASET HEALTH NEWS IN TWITTER"
      ]
    },
    {
      "cell_type": "code",
      "metadata": {
        "id": "C04r_j5LaI3e"
      },
      "source": [
        "import pandas as pd\n",
        "from matplotlib import pyplot as plt\n",
        "import numpy as np\n",
        "import sklearn as sk\n",
        "from sklearn.preprocessing import LabelEncoder\n",
        "from sklearn.cluster import KMeans"
      ],
      "execution_count": 25,
      "outputs": []
    },
    {
      "cell_type": "code",
      "metadata": {
        "colab": {
          "base_uri": "https://localhost:8080/",
          "height": 206
        },
        "id": "pSQ6Ot1vab69",
        "outputId": "1aac46c5-fbc4-45fc-b38f-266dedcb5736"
      },
      "source": [
        "df = pd.read_csv('foxnewshealth.txt', sep='|', names=['tweet id','date time','tweet'], encoding='cp1252')\n",
        "df.head()"
      ],
      "execution_count": 26,
      "outputs": [
        {
          "output_type": "execute_result",
          "data": {
            "text/html": [
              "<div>\n",
              "<style scoped>\n",
              "    .dataframe tbody tr th:only-of-type {\n",
              "        vertical-align: middle;\n",
              "    }\n",
              "\n",
              "    .dataframe tbody tr th {\n",
              "        vertical-align: top;\n",
              "    }\n",
              "\n",
              "    .dataframe thead th {\n",
              "        text-align: right;\n",
              "    }\n",
              "</style>\n",
              "<table border=\"1\" class=\"dataframe\">\n",
              "  <thead>\n",
              "    <tr style=\"text-align: right;\">\n",
              "      <th></th>\n",
              "      <th>tweet id</th>\n",
              "      <th>date time</th>\n",
              "      <th>tweet</th>\n",
              "    </tr>\n",
              "  </thead>\n",
              "  <tbody>\n",
              "    <tr>\n",
              "      <th>0</th>\n",
              "      <td>585942799561928704</td>\n",
              "      <td>Wed Apr 08 23:10:24 +0000 2015</td>\n",
              "      <td>Injury prevention programs unpopular with high...</td>\n",
              "    </tr>\n",
              "    <tr>\n",
              "      <th>1</th>\n",
              "      <td>585934004089683969</td>\n",
              "      <td>Wed Apr 08 22:35:27 +0000 2015</td>\n",
              "      <td>6 dietary changes to make midlife http://ow.ly...</td>\n",
              "    </tr>\n",
              "    <tr>\n",
              "      <th>2</th>\n",
              "      <td>585926494054195201</td>\n",
              "      <td>Wed Apr 08 22:05:36 +0000 2015</td>\n",
              "      <td>Massachusetts governor gets head shaved to sup...</td>\n",
              "    </tr>\n",
              "    <tr>\n",
              "      <th>3</th>\n",
              "      <td>585921515922788354</td>\n",
              "      <td>Wed Apr 08 21:45:49 +0000 2015</td>\n",
              "      <td>Dad wins 3 marathons in 8 days; winnings to he...</td>\n",
              "    </tr>\n",
              "    <tr>\n",
              "      <th>4</th>\n",
              "      <td>585915150449934338</td>\n",
              "      <td>Wed Apr 08 21:20:32 +0000 2015</td>\n",
              "      <td>Possible cure for melanoma? http://ow.ly/LlLg8</td>\n",
              "    </tr>\n",
              "  </tbody>\n",
              "</table>\n",
              "</div>"
            ],
            "text/plain": [
              "             tweet id  ...                                              tweet\n",
              "0  585942799561928704  ...  Injury prevention programs unpopular with high...\n",
              "1  585934004089683969  ...  6 dietary changes to make midlife http://ow.ly...\n",
              "2  585926494054195201  ...  Massachusetts governor gets head shaved to sup...\n",
              "3  585921515922788354  ...  Dad wins 3 marathons in 8 days; winnings to he...\n",
              "4  585915150449934338  ...     Possible cure for melanoma? http://ow.ly/LlLg8\n",
              "\n",
              "[5 rows x 3 columns]"
            ]
          },
          "metadata": {},
          "execution_count": 26
        }
      ]
    },
    {
      "cell_type": "markdown",
      "metadata": {
        "id": "ESHBBZSyfm32"
      },
      "source": [
        "# **Preprocessing**\n",
        "1. Handling Missing Values<br>\n",
        "2. Encode<br>\n",
        "3. Handling Outliers<br>"
      ]
    },
    {
      "cell_type": "markdown",
      "metadata": {
        "id": "S7G5LZ6pf2NW"
      },
      "source": [
        "## Check and Handling Missing Values"
      ]
    },
    {
      "cell_type": "code",
      "metadata": {
        "colab": {
          "base_uri": "https://localhost:8080/"
        },
        "id": "ezG0rSLfdl7c",
        "outputId": "e0fe3cea-1329-4101-a7a1-501b90e429d2"
      },
      "source": [
        "df.isnull().sum()"
      ],
      "execution_count": 27,
      "outputs": [
        {
          "output_type": "execute_result",
          "data": {
            "text/plain": [
              "tweet id     0\n",
              "date time    0\n",
              "tweet        0\n",
              "dtype: int64"
            ]
          },
          "metadata": {},
          "execution_count": 27
        }
      ]
    },
    {
      "cell_type": "markdown",
      "metadata": {
        "id": "cn0K0xjzgt5n"
      },
      "source": [
        "Ketiga atribut tidak memiliki missing values."
      ]
    },
    {
      "cell_type": "markdown",
      "metadata": {
        "id": "3z60lAQfgx-O"
      },
      "source": [
        "## Encode Categorical to Numerical"
      ]
    },
    {
      "cell_type": "code",
      "metadata": {
        "id": "fxplCglehCo8"
      },
      "source": [
        "numerics = ['int8', 'int16', 'int32', 'int64', 'float16', 'float32', 'float64']\n",
        "categorical_columns = []\n",
        "features = df.columns.values.tolist()\n",
        "for col in features:\n",
        "    if df[col].dtype in numerics: continue\n",
        "    categorical_columns.append(col)\n",
        "\n",
        "# Encoding Fitur Categorical\n",
        "for col in categorical_columns:\n",
        "    if col in df.columns:\n",
        "        enco = LabelEncoder()\n",
        "        enco.fit(list(df[col].astype(str).values))\n",
        "        df[col] = enco.transform(list(df[col].astype(str).values))"
      ],
      "execution_count": 28,
      "outputs": []
    },
    {
      "cell_type": "code",
      "metadata": {
        "colab": {
          "base_uri": "https://localhost:8080/"
        },
        "id": "XJp4YpQPhmlc",
        "outputId": "408dd3e6-cfc4-454c-fc70-6d534ff12adb"
      },
      "source": [
        "print(df.dtypes)"
      ],
      "execution_count": 29,
      "outputs": [
        {
          "output_type": "stream",
          "name": "stdout",
          "text": [
            "tweet id     int64\n",
            "date time    int64\n",
            "tweet        int64\n",
            "dtype: object\n"
          ]
        }
      ]
    },
    {
      "cell_type": "markdown",
      "metadata": {
        "id": "b7XGOd0ahr3B"
      },
      "source": [
        "##Check and Handling Outliers"
      ]
    },
    {
      "cell_type": "code",
      "metadata": {
        "colab": {
          "base_uri": "https://localhost:8080/"
        },
        "id": "ZFBhPKk3h0bn",
        "outputId": "aa8b31a4-7671-4487-889e-f39102f8a0ac"
      },
      "source": [
        "print(round(df.describe()),2)"
      ],
      "execution_count": 30,
      "outputs": [
        {
          "output_type": "stream",
          "name": "stdout",
          "text": [
            "           tweet id  date time   tweet\n",
            "count  2.000000e+03     2000.0  2000.0\n",
            "mean   5.627664e+17     1000.0  1000.0\n",
            "std    1.404550e+16      577.0   577.0\n",
            "min    5.376303e+17        0.0     0.0\n",
            "25%    5.521467e+17      500.0   500.0\n",
            "50%    5.632394e+17     1000.0  1000.0\n",
            "75%    5.753232e+17     1499.0  1499.0\n",
            "max    5.859428e+17     1999.0  1999.0 2\n"
          ]
        }
      ]
    },
    {
      "cell_type": "code",
      "metadata": {
        "colab": {
          "base_uri": "https://localhost:8080/",
          "height": 293
        },
        "id": "yUZBnQeXismy",
        "outputId": "d8703f7e-f81e-49f4-e95e-242ffd4c671b"
      },
      "source": [
        "f,axes = plt.subplots(1,3)\n",
        "plt.figure(figsize=(20,10))\n",
        "df['tweet id'].plot(kind='box',ax=axes[0])\n",
        "df['date time'].plot(kind='box',ax=axes[1])\n",
        "df['tweet'].plot(kind='box',ax=axes[2])\n",
        "\n",
        "plt.show()"
      ],
      "execution_count": 31,
      "outputs": [
        {
          "output_type": "display_data",
          "data": {
            "image/png": "[encoded data removed]",
            "text/plain": [
              "<Figure size 432x288 with 3 Axes>"
            ]
          },
          "metadata": {
            "needs_background": "light"
          }
        },
        {
          "output_type": "display_data",
          "data": {
            "text/plain": [
              "<Figure size 1440x720 with 0 Axes>"
            ]
          },
          "metadata": {}
        }
      ]
    },
    {
      "cell_type": "markdown",
      "metadata": {
        "id": "wwzsgLcbh-nJ"
      },
      "source": [
        "Dari statistik, tidak terdapat outliers."
      ]
    },
    {
      "cell_type": "code",
      "metadata": {
        "id": "0GqvUbQGInZW"
      },
      "source": [
        "from sklearn.preprocessing import StandardScaler\n",
        "\n",
        "scaler = StandardScaler()\n",
        "\n",
        "sdf = pd.DataFrame(scaler.fit_transform(df), columns = df.columns)"
      ],
      "execution_count": 32,
      "outputs": []
    },
    {
      "cell_type": "code",
      "metadata": {
        "colab": {
          "base_uri": "https://localhost:8080/",
          "height": 206
        },
        "id": "Io2uBJZsJf5t",
        "outputId": "a9a4718c-6f40-4a47-dbe1-dc10043add67"
      },
      "source": [
        "sdf.head()"
      ],
      "execution_count": 33,
      "outputs": [
        {
          "output_type": "execute_result",
          "data": {
            "text/html": [
              "<div>\n",
              "<style scoped>\n",
              "    .dataframe tbody tr th:only-of-type {\n",
              "        vertical-align: middle;\n",
              "    }\n",
              "\n",
              "    .dataframe tbody tr th {\n",
              "        vertical-align: top;\n",
              "    }\n",
              "\n",
              "    .dataframe thead th {\n",
              "        text-align: right;\n",
              "    }\n",
              "</style>\n",
              "<table border=\"1\" class=\"dataframe\">\n",
              "  <thead>\n",
              "    <tr style=\"text-align: right;\">\n",
              "      <th></th>\n",
              "      <th>tweet id</th>\n",
              "      <th>date time</th>\n",
              "      <th>tweet</th>\n",
              "    </tr>\n",
              "  </thead>\n",
              "  <tbody>\n",
              "    <tr>\n",
              "      <th>0</th>\n",
              "      <td>1.650506</td>\n",
              "      <td>1.043561</td>\n",
              "      <td>0.054560</td>\n",
              "    </tr>\n",
              "    <tr>\n",
              "      <th>1</th>\n",
              "      <td>1.649879</td>\n",
              "      <td>1.041829</td>\n",
              "      <td>-1.266995</td>\n",
              "    </tr>\n",
              "    <tr>\n",
              "      <th>2</th>\n",
              "      <td>1.649345</td>\n",
              "      <td>1.040097</td>\n",
              "      <td>0.293583</td>\n",
              "    </tr>\n",
              "    <tr>\n",
              "      <th>3</th>\n",
              "      <td>1.648990</td>\n",
              "      <td>1.038365</td>\n",
              "      <td>-0.726595</td>\n",
              "    </tr>\n",
              "    <tr>\n",
              "      <th>4</th>\n",
              "      <td>1.648537</td>\n",
              "      <td>1.036633</td>\n",
              "      <td>0.724863</td>\n",
              "    </tr>\n",
              "  </tbody>\n",
              "</table>\n",
              "</div>"
            ],
            "text/plain": [
              "   tweet id  date time     tweet\n",
              "0  1.650506   1.043561  0.054560\n",
              "1  1.649879   1.041829 -1.266995\n",
              "2  1.649345   1.040097  0.293583\n",
              "3  1.648990   1.038365 -0.726595\n",
              "4  1.648537   1.036633  0.724863"
            ]
          },
          "metadata": {},
          "execution_count": 33
        }
      ]
    },
    {
      "cell_type": "markdown",
      "metadata": {
        "id": "cy_CtbpxjJsR"
      },
      "source": [
        "# Clustering"
      ]
    },
    {
      "cell_type": "code",
      "metadata": {
        "id": "SsdnrRZkiDLb",
        "colab": {
          "base_uri": "https://localhost:8080/"
        },
        "outputId": "f98e568f-5a55-47e7-b8b3-6e093f42e92c"
      },
      "source": [
        "kmeans = KMeans(3)\n",
        "kmeans.fit(df)"
      ],
      "execution_count": 34,
      "outputs": [
        {
          "output_type": "execute_result",
          "data": {
            "text/plain": [
              "KMeans(n_clusters=3)"
            ]
          },
          "metadata": {},
          "execution_count": 34
        }
      ]
    },
    {
      "cell_type": "code",
      "metadata": {
        "colab": {
          "base_uri": "https://localhost:8080/"
        },
        "id": "lFsHG3CNDmkP",
        "outputId": "8ef50a84-18dd-4b90-81ef-a27ab1dc0936"
      },
      "source": [
        "identified_clusters = kmeans.fit_predict(df)\n",
        "identified_clusters"
      ],
      "execution_count": 35,
      "outputs": [
        {
          "output_type": "execute_result",
          "data": {
            "text/plain": [
              "array([1, 1, 1, ..., 0, 0, 0], dtype=int32)"
            ]
          },
          "metadata": {},
          "execution_count": 35
        }
      ]
    },
    {
      "cell_type": "code",
      "metadata": {
        "colab": {
          "base_uri": "https://localhost:8080/",
          "height": 295
        },
        "id": "1c0yx64mDp2q",
        "outputId": "93c0167d-9750-4779-f4b1-10709a0c0a3d"
      },
      "source": [
        "data_with_clusters = df.copy()\n",
        "data_with_clusters['Clusters'] = identified_clusters \n",
        "plt.scatter(data_with_clusters['tweet id'],data_with_clusters['date time'],data_with_clusters['tweet'],c=data_with_clusters['Clusters'],cmap='rainbow')"
      ],
      "execution_count": 36,
      "outputs": [
        {
          "output_type": "execute_result",
          "data": {
            "text/plain": [
              "<matplotlib.collections.PathCollection at 0x7f56591e8d90>"
            ]
          },
          "metadata": {},
          "execution_count": 36
        },
        {
          "output_type": "display_data",
          "data": {
            "image/png": "[encoded data removed]",
            "text/plain": [
              "<Figure size 432x288 with 1 Axes>"
            ]
          },
          "metadata": {
            "needs_background": "light"
          }
        }
      ]
    },
    {
      "cell_type": "code",
      "metadata": {
        "colab": {
          "base_uri": "https://localhost:8080/",
          "height": 424
        },
        "id": "jr3rjV4jFNX5",
        "outputId": "6dd95138-d223-4498-c073-b1e38bdb8f9f"
      },
      "source": [
        "data_with_clusters"
      ],
      "execution_count": 37,
      "outputs": [
        {
          "output_type": "execute_result",
          "data": {
            "text/html": [
              "<div>\n",
              "<style scoped>\n",
              "    .dataframe tbody tr th:only-of-type {\n",
              "        vertical-align: middle;\n",
              "    }\n",
              "\n",
              "    .dataframe tbody tr th {\n",
              "        vertical-align: top;\n",
              "    }\n",
              "\n",
              "    .dataframe thead th {\n",
              "        text-align: right;\n",
              "    }\n",
              "</style>\n",
              "<table border=\"1\" class=\"dataframe\">\n",
              "  <thead>\n",
              "    <tr style=\"text-align: right;\">\n",
              "      <th></th>\n",
              "      <th>tweet id</th>\n",
              "      <th>date time</th>\n",
              "      <th>tweet</th>\n",
              "      <th>Clusters</th>\n",
              "    </tr>\n",
              "  </thead>\n",
              "  <tbody>\n",
              "    <tr>\n",
              "      <th>0</th>\n",
              "      <td>585942799561928704</td>\n",
              "      <td>1602</td>\n",
              "      <td>1031</td>\n",
              "      <td>1</td>\n",
              "    </tr>\n",
              "    <tr>\n",
              "      <th>1</th>\n",
              "      <td>585934004089683969</td>\n",
              "      <td>1601</td>\n",
              "      <td>268</td>\n",
              "      <td>1</td>\n",
              "    </tr>\n",
              "    <tr>\n",
              "      <th>2</th>\n",
              "      <td>585926494054195201</td>\n",
              "      <td>1600</td>\n",
              "      <td>1169</td>\n",
              "      <td>1</td>\n",
              "    </tr>\n",
              "    <tr>\n",
              "      <th>3</th>\n",
              "      <td>585921515922788354</td>\n",
              "      <td>1599</td>\n",
              "      <td>580</td>\n",
              "      <td>1</td>\n",
              "    </tr>\n",
              "    <tr>\n",
              "      <th>4</th>\n",
              "      <td>585915150449934338</td>\n",
              "      <td>1598</td>\n",
              "      <td>1418</td>\n",
              "      <td>1</td>\n",
              "    </tr>\n",
              "    <tr>\n",
              "      <th>...</th>\n",
              "      <td>...</td>\n",
              "      <td>...</td>\n",
              "      <td>...</td>\n",
              "      <td>...</td>\n",
              "    </tr>\n",
              "    <tr>\n",
              "      <th>1995</th>\n",
              "      <td>537650884990496768</td>\n",
              "      <td>1987</td>\n",
              "      <td>1511</td>\n",
              "      <td>0</td>\n",
              "    </tr>\n",
              "    <tr>\n",
              "      <th>1996</th>\n",
              "      <td>537645732715847680</td>\n",
              "      <td>1986</td>\n",
              "      <td>356</td>\n",
              "      <td>0</td>\n",
              "    </tr>\n",
              "    <tr>\n",
              "      <th>1997</th>\n",
              "      <td>537640703250411520</td>\n",
              "      <td>1985</td>\n",
              "      <td>1184</td>\n",
              "      <td>0</td>\n",
              "    </tr>\n",
              "    <tr>\n",
              "      <th>1998</th>\n",
              "      <td>537634458569285632</td>\n",
              "      <td>1984</td>\n",
              "      <td>139</td>\n",
              "      <td>0</td>\n",
              "    </tr>\n",
              "    <tr>\n",
              "      <th>1999</th>\n",
              "      <td>537630319583952896</td>\n",
              "      <td>1983</td>\n",
              "      <td>529</td>\n",
              "      <td>0</td>\n",
              "    </tr>\n",
              "  </tbody>\n",
              "</table>\n",
              "<p>2000 rows × 4 columns</p>\n",
              "</div>"
            ],
            "text/plain": [
              "                tweet id  date time  tweet  Clusters\n",
              "0     585942799561928704       1602   1031         1\n",
              "1     585934004089683969       1601    268         1\n",
              "2     585926494054195201       1600   1169         1\n",
              "3     585921515922788354       1599    580         1\n",
              "4     585915150449934338       1598   1418         1\n",
              "...                  ...        ...    ...       ...\n",
              "1995  537650884990496768       1987   1511         0\n",
              "1996  537645732715847680       1986    356         0\n",
              "1997  537640703250411520       1985   1184         0\n",
              "1998  537634458569285632       1984    139         0\n",
              "1999  537630319583952896       1983    529         0\n",
              "\n",
              "[2000 rows x 4 columns]"
            ]
          },
          "metadata": {},
          "execution_count": 37
        }
      ]
    },
    {
      "cell_type": "code",
      "metadata": {
        "colab": {
          "base_uri": "https://localhost:8080/",
          "height": 312
        },
        "id": "tci6hpHCEGV8",
        "outputId": "7bf51804-2e2e-4b85-93d3-c56eacce8423"
      },
      "source": [
        "wcss=[]\n",
        "for i in range(1,7):\n",
        "  kmeans=KMeans(i)\n",
        "  kmeans.fit(df)\n",
        "  wcss_iter = kmeans.inertia_\n",
        "  wcss.append(wcss_iter)\n",
        "\n",
        "number_clusters = range(1,7)\n",
        "plt.plot(number_clusters,wcss)\n",
        "plt.title('Elbow Method')\n",
        "plt.xlabel('Number of clusters')\n",
        "plt.ylabel('WCSS')"
      ],
      "execution_count": 38,
      "outputs": [
        {
          "output_type": "execute_result",
          "data": {
            "text/plain": [
              "Text(0, 0.5, 'WCSS')"
            ]
          },
          "metadata": {},
          "execution_count": 38
        },
        {
          "output_type": "display_data",
          "data": {
            "image/png": "[encoded data removed]",
            "text/plain": [
              "<Figure size 432x288 with 1 Axes>"
            ]
          },
          "metadata": {
            "needs_background": "light"
          }
        }
      ]
    }
  ]
}